{
 "cells": [
  {
   "cell_type": "markdown",
   "id": "ef1dc493",
   "metadata": {},
   "source": [
    "### RAG PIPELINE - Data ingestion to Vector DB pipeline"
   ]
  },
  {
   "cell_type": "code",
   "execution_count": 3,
   "id": "1a4fc55c",
   "metadata": {},
   "outputs": [
    {
     "name": "stdout",
     "output_type": "stream",
     "text": [
      "Defaulting to user installation because normal site-packages is not writeable\n",
      "Requirement already satisfied: langchain_community in /Users/adityasingh/Library/Python/3.12/lib/python/site-packages (0.4)\n",
      "Requirement already satisfied: langchain-core<2.0.0,>=1.0.0 in /Users/adityasingh/Library/Python/3.12/lib/python/site-packages (from langchain_community) (1.0.0)\n",
      "Requirement already satisfied: langchain-classic<2.0.0,>=1.0.0 in /Users/adityasingh/Library/Python/3.12/lib/python/site-packages (from langchain_community) (1.0.0)\n",
      "Requirement already satisfied: SQLAlchemy<3.0.0,>=1.4.0 in /Library/Frameworks/Python.framework/Versions/3.12/lib/python3.12/site-packages (from langchain_community) (2.0.25)\n",
      "Requirement already satisfied: requests<3.0.0,>=2.32.5 in /Users/adityasingh/Library/Python/3.12/lib/python/site-packages (from langchain_community) (2.32.5)\n",
      "Requirement already satisfied: PyYAML<7.0.0,>=5.3.0 in /Users/adityasingh/Library/Python/3.12/lib/python/site-packages (from langchain_community) (6.0.2)\n",
      "Requirement already satisfied: aiohttp<4.0.0,>=3.8.3 in /Users/adityasingh/Library/Python/3.12/lib/python/site-packages (from langchain_community) (3.12.14)\n",
      "Requirement already satisfied: tenacity!=8.4.0,<10.0.0,>=8.1.0 in /Users/adityasingh/Library/Python/3.12/lib/python/site-packages (from langchain_community) (9.1.2)\n",
      "Requirement already satisfied: dataclasses-json<0.7.0,>=0.6.7 in /Users/adityasingh/Library/Python/3.12/lib/python/site-packages (from langchain_community) (0.6.7)\n",
      "Requirement already satisfied: pydantic-settings<3.0.0,>=2.10.1 in /Users/adityasingh/Library/Python/3.12/lib/python/site-packages (from langchain_community) (2.10.1)\n",
      "Requirement already satisfied: langsmith<1.0.0,>=0.1.125 in /Users/adityasingh/Library/Python/3.12/lib/python/site-packages (from langchain_community) (0.4.36)\n",
      "Requirement already satisfied: httpx-sse<1.0.0,>=0.4.0 in /Users/adityasingh/Library/Python/3.12/lib/python/site-packages (from langchain_community) (0.4.3)\n",
      "Requirement already satisfied: numpy>=1.26.2 in /Users/adityasingh/Library/Python/3.12/lib/python/site-packages (from langchain_community) (2.2.6)\n",
      "Requirement already satisfied: aiohappyeyeballs>=2.5.0 in /Users/adityasingh/Library/Python/3.12/lib/python/site-packages (from aiohttp<4.0.0,>=3.8.3->langchain_community) (2.6.1)\n",
      "Requirement already satisfied: aiosignal>=1.4.0 in /Users/adityasingh/Library/Python/3.12/lib/python/site-packages (from aiohttp<4.0.0,>=3.8.3->langchain_community) (1.4.0)\n",
      "Requirement already satisfied: attrs>=17.3.0 in /Library/Frameworks/Python.framework/Versions/3.12/lib/python3.12/site-packages (from aiohttp<4.0.0,>=3.8.3->langchain_community) (23.2.0)\n",
      "Requirement already satisfied: frozenlist>=1.1.1 in /Library/Frameworks/Python.framework/Versions/3.12/lib/python3.12/site-packages (from aiohttp<4.0.0,>=3.8.3->langchain_community) (1.4.1)\n",
      "Requirement already satisfied: multidict<7.0,>=4.5 in /Library/Frameworks/Python.framework/Versions/3.12/lib/python3.12/site-packages (from aiohttp<4.0.0,>=3.8.3->langchain_community) (6.0.5)\n",
      "Requirement already satisfied: propcache>=0.2.0 in /Users/adityasingh/Library/Python/3.12/lib/python/site-packages (from aiohttp<4.0.0,>=3.8.3->langchain_community) (0.3.2)\n",
      "Requirement already satisfied: yarl<2.0,>=1.17.0 in /Users/adityasingh/Library/Python/3.12/lib/python/site-packages (from aiohttp<4.0.0,>=3.8.3->langchain_community) (1.20.1)\n",
      "Requirement already satisfied: marshmallow<4.0.0,>=3.18.0 in /Users/adityasingh/Library/Python/3.12/lib/python/site-packages (from dataclasses-json<0.7.0,>=0.6.7->langchain_community) (3.26.1)\n",
      "Requirement already satisfied: typing-inspect<1,>=0.4.0 in /Users/adityasingh/Library/Python/3.12/lib/python/site-packages (from dataclasses-json<0.7.0,>=0.6.7->langchain_community) (0.9.0)\n",
      "Requirement already satisfied: langchain-text-splitters<2.0.0,>=1.0.0 in /Users/adityasingh/Library/Python/3.12/lib/python/site-packages (from langchain-classic<2.0.0,>=1.0.0->langchain_community) (1.0.0)\n",
      "Requirement already satisfied: pydantic<3.0.0,>=2.7.4 in /Library/Frameworks/Python.framework/Versions/3.12/lib/python3.12/site-packages (from langchain-classic<2.0.0,>=1.0.0->langchain_community) (2.9.2)\n",
      "Requirement already satisfied: jsonpatch<2.0.0,>=1.33.0 in /Users/adityasingh/Library/Python/3.12/lib/python/site-packages (from langchain-core<2.0.0,>=1.0.0->langchain_community) (1.33)\n",
      "Requirement already satisfied: packaging<26.0.0,>=23.2.0 in /Users/adityasingh/Library/Python/3.12/lib/python/site-packages (from langchain-core<2.0.0,>=1.0.0->langchain_community) (25.0)\n",
      "Requirement already satisfied: typing-extensions<5.0.0,>=4.7.0 in /Library/Frameworks/Python.framework/Versions/3.12/lib/python3.12/site-packages (from langchain-core<2.0.0,>=1.0.0->langchain_community) (4.14.0)\n",
      "Requirement already satisfied: jsonpointer>=1.9 in /Users/adityasingh/Library/Python/3.12/lib/python/site-packages (from jsonpatch<2.0.0,>=1.33.0->langchain-core<2.0.0,>=1.0.0->langchain_community) (3.0.0)\n",
      "Requirement already satisfied: httpx<1,>=0.23.0 in /Library/Frameworks/Python.framework/Versions/3.12/lib/python3.12/site-packages (from langsmith<1.0.0,>=0.1.125->langchain_community) (0.27.2)\n",
      "Requirement already satisfied: orjson>=3.9.14 in /Users/adityasingh/Library/Python/3.12/lib/python/site-packages (from langsmith<1.0.0,>=0.1.125->langchain_community) (3.11.3)\n",
      "Requirement already satisfied: requests-toolbelt>=1.0.0 in /Users/adityasingh/Library/Python/3.12/lib/python/site-packages (from langsmith<1.0.0,>=0.1.125->langchain_community) (1.0.0)\n",
      "Requirement already satisfied: zstandard>=0.23.0 in /Users/adityasingh/Library/Python/3.12/lib/python/site-packages (from langsmith<1.0.0,>=0.1.125->langchain_community) (0.25.0)\n",
      "Requirement already satisfied: anyio in /Library/Frameworks/Python.framework/Versions/3.12/lib/python3.12/site-packages (from httpx<1,>=0.23.0->langsmith<1.0.0,>=0.1.125->langchain_community) (4.6.2.post1)\n",
      "Requirement already satisfied: certifi in /Library/Frameworks/Python.framework/Versions/3.12/lib/python3.12/site-packages (from httpx<1,>=0.23.0->langsmith<1.0.0,>=0.1.125->langchain_community) (2023.7.22)\n",
      "Requirement already satisfied: httpcore==1.* in /Library/Frameworks/Python.framework/Versions/3.12/lib/python3.12/site-packages (from httpx<1,>=0.23.0->langsmith<1.0.0,>=0.1.125->langchain_community) (1.0.7)\n",
      "Requirement already satisfied: idna in /Library/Frameworks/Python.framework/Versions/3.12/lib/python3.12/site-packages (from httpx<1,>=0.23.0->langsmith<1.0.0,>=0.1.125->langchain_community) (3.6)\n",
      "Requirement already satisfied: sniffio in /Library/Frameworks/Python.framework/Versions/3.12/lib/python3.12/site-packages (from httpx<1,>=0.23.0->langsmith<1.0.0,>=0.1.125->langchain_community) (1.3.1)\n",
      "Requirement already satisfied: h11<0.15,>=0.13 in /Library/Frameworks/Python.framework/Versions/3.12/lib/python3.12/site-packages (from httpcore==1.*->httpx<1,>=0.23.0->langsmith<1.0.0,>=0.1.125->langchain_community) (0.14.0)\n",
      "Requirement already satisfied: annotated-types>=0.6.0 in /Library/Frameworks/Python.framework/Versions/3.12/lib/python3.12/site-packages (from pydantic<3.0.0,>=2.7.4->langchain-classic<2.0.0,>=1.0.0->langchain_community) (0.7.0)\n",
      "Requirement already satisfied: pydantic-core==2.23.4 in /Library/Frameworks/Python.framework/Versions/3.12/lib/python3.12/site-packages (from pydantic<3.0.0,>=2.7.4->langchain-classic<2.0.0,>=1.0.0->langchain_community) (2.23.4)\n",
      "Requirement already satisfied: python-dotenv>=0.21.0 in /Users/adityasingh/Library/Python/3.12/lib/python/site-packages (from pydantic-settings<3.0.0,>=2.10.1->langchain_community) (1.0.1)\n",
      "Requirement already satisfied: typing-inspection>=0.4.0 in /Users/adityasingh/Library/Python/3.12/lib/python/site-packages (from pydantic-settings<3.0.0,>=2.10.1->langchain_community) (0.4.1)\n",
      "Requirement already satisfied: charset_normalizer<4,>=2 in /Library/Frameworks/Python.framework/Versions/3.12/lib/python3.12/site-packages (from requests<3.0.0,>=2.32.5->langchain_community) (3.3.2)\n",
      "Requirement already satisfied: urllib3<3,>=1.21.1 in /Users/adityasingh/Library/Python/3.12/lib/python/site-packages (from requests<3.0.0,>=2.32.5->langchain_community) (1.26.20)\n",
      "Requirement already satisfied: mypy-extensions>=0.3.0 in /Users/adityasingh/Library/Python/3.12/lib/python/site-packages (from typing-inspect<1,>=0.4.0->dataclasses-json<0.7.0,>=0.6.7->langchain_community) (1.1.0)\n",
      "Note: you may need to restart the kernel to use updated packages.\n",
      "Defaulting to user installation because normal site-packages is not writeable\n",
      "Requirement already satisfied: langchain in /Users/adityasingh/Library/Python/3.12/lib/python/site-packages (1.0.0)\n",
      "Requirement already satisfied: langchain-core<2.0.0,>=1.0.0 in /Users/adityasingh/Library/Python/3.12/lib/python/site-packages (from langchain) (1.0.0)\n",
      "Requirement already satisfied: langgraph<1.1.0,>=1.0.0 in /Users/adityasingh/Library/Python/3.12/lib/python/site-packages (from langchain) (1.0.0)\n",
      "Requirement already satisfied: pydantic<3.0.0,>=2.7.4 in /Library/Frameworks/Python.framework/Versions/3.12/lib/python3.12/site-packages (from langchain) (2.9.2)\n",
      "Requirement already satisfied: jsonpatch<2.0.0,>=1.33.0 in /Users/adityasingh/Library/Python/3.12/lib/python/site-packages (from langchain-core<2.0.0,>=1.0.0->langchain) (1.33)\n",
      "Requirement already satisfied: langsmith<1.0.0,>=0.3.45 in /Users/adityasingh/Library/Python/3.12/lib/python/site-packages (from langchain-core<2.0.0,>=1.0.0->langchain) (0.4.36)\n",
      "Requirement already satisfied: packaging<26.0.0,>=23.2.0 in /Users/adityasingh/Library/Python/3.12/lib/python/site-packages (from langchain-core<2.0.0,>=1.0.0->langchain) (25.0)\n",
      "Requirement already satisfied: pyyaml<7.0.0,>=5.3.0 in /Users/adityasingh/Library/Python/3.12/lib/python/site-packages (from langchain-core<2.0.0,>=1.0.0->langchain) (6.0.2)\n",
      "Requirement already satisfied: tenacity!=8.4.0,<10.0.0,>=8.1.0 in /Users/adityasingh/Library/Python/3.12/lib/python/site-packages (from langchain-core<2.0.0,>=1.0.0->langchain) (9.1.2)\n",
      "Requirement already satisfied: typing-extensions<5.0.0,>=4.7.0 in /Library/Frameworks/Python.framework/Versions/3.12/lib/python3.12/site-packages (from langchain-core<2.0.0,>=1.0.0->langchain) (4.14.0)\n",
      "Requirement already satisfied: jsonpointer>=1.9 in /Users/adityasingh/Library/Python/3.12/lib/python/site-packages (from jsonpatch<2.0.0,>=1.33.0->langchain-core<2.0.0,>=1.0.0->langchain) (3.0.0)\n",
      "Requirement already satisfied: langgraph-checkpoint<3.0.0,>=2.1.0 in /Users/adityasingh/Library/Python/3.12/lib/python/site-packages (from langgraph<1.1.0,>=1.0.0->langchain) (2.1.2)\n",
      "Requirement already satisfied: langgraph-prebuilt<1.1.0,>=1.0.0 in /Users/adityasingh/Library/Python/3.12/lib/python/site-packages (from langgraph<1.1.0,>=1.0.0->langchain) (1.0.0)\n",
      "Requirement already satisfied: langgraph-sdk<0.3.0,>=0.2.2 in /Users/adityasingh/Library/Python/3.12/lib/python/site-packages (from langgraph<1.1.0,>=1.0.0->langchain) (0.2.9)\n",
      "Requirement already satisfied: xxhash>=3.5.0 in /Users/adityasingh/Library/Python/3.12/lib/python/site-packages (from langgraph<1.1.0,>=1.0.0->langchain) (3.6.0)\n",
      "Requirement already satisfied: ormsgpack>=1.10.0 in /Users/adityasingh/Library/Python/3.12/lib/python/site-packages (from langgraph-checkpoint<3.0.0,>=2.1.0->langgraph<1.1.0,>=1.0.0->langchain) (1.11.0)\n",
      "Requirement already satisfied: httpx>=0.25.2 in /Library/Frameworks/Python.framework/Versions/3.12/lib/python3.12/site-packages (from langgraph-sdk<0.3.0,>=0.2.2->langgraph<1.1.0,>=1.0.0->langchain) (0.27.2)\n",
      "Requirement already satisfied: orjson>=3.10.1 in /Users/adityasingh/Library/Python/3.12/lib/python/site-packages (from langgraph-sdk<0.3.0,>=0.2.2->langgraph<1.1.0,>=1.0.0->langchain) (3.11.3)\n",
      "Requirement already satisfied: requests-toolbelt>=1.0.0 in /Users/adityasingh/Library/Python/3.12/lib/python/site-packages (from langsmith<1.0.0,>=0.3.45->langchain-core<2.0.0,>=1.0.0->langchain) (1.0.0)\n",
      "Requirement already satisfied: requests>=2.0.0 in /Users/adityasingh/Library/Python/3.12/lib/python/site-packages (from langsmith<1.0.0,>=0.3.45->langchain-core<2.0.0,>=1.0.0->langchain) (2.32.5)\n",
      "Requirement already satisfied: zstandard>=0.23.0 in /Users/adityasingh/Library/Python/3.12/lib/python/site-packages (from langsmith<1.0.0,>=0.3.45->langchain-core<2.0.0,>=1.0.0->langchain) (0.25.0)\n",
      "Requirement already satisfied: anyio in /Library/Frameworks/Python.framework/Versions/3.12/lib/python3.12/site-packages (from httpx>=0.25.2->langgraph-sdk<0.3.0,>=0.2.2->langgraph<1.1.0,>=1.0.0->langchain) (4.6.2.post1)\n",
      "Requirement already satisfied: certifi in /Library/Frameworks/Python.framework/Versions/3.12/lib/python3.12/site-packages (from httpx>=0.25.2->langgraph-sdk<0.3.0,>=0.2.2->langgraph<1.1.0,>=1.0.0->langchain) (2023.7.22)\n",
      "Requirement already satisfied: httpcore==1.* in /Library/Frameworks/Python.framework/Versions/3.12/lib/python3.12/site-packages (from httpx>=0.25.2->langgraph-sdk<0.3.0,>=0.2.2->langgraph<1.1.0,>=1.0.0->langchain) (1.0.7)\n",
      "Requirement already satisfied: idna in /Library/Frameworks/Python.framework/Versions/3.12/lib/python3.12/site-packages (from httpx>=0.25.2->langgraph-sdk<0.3.0,>=0.2.2->langgraph<1.1.0,>=1.0.0->langchain) (3.6)\n",
      "Requirement already satisfied: sniffio in /Library/Frameworks/Python.framework/Versions/3.12/lib/python3.12/site-packages (from httpx>=0.25.2->langgraph-sdk<0.3.0,>=0.2.2->langgraph<1.1.0,>=1.0.0->langchain) (1.3.1)\n",
      "Requirement already satisfied: h11<0.15,>=0.13 in /Library/Frameworks/Python.framework/Versions/3.12/lib/python3.12/site-packages (from httpcore==1.*->httpx>=0.25.2->langgraph-sdk<0.3.0,>=0.2.2->langgraph<1.1.0,>=1.0.0->langchain) (0.14.0)\n",
      "Requirement already satisfied: annotated-types>=0.6.0 in /Library/Frameworks/Python.framework/Versions/3.12/lib/python3.12/site-packages (from pydantic<3.0.0,>=2.7.4->langchain) (0.7.0)\n",
      "Requirement already satisfied: pydantic-core==2.23.4 in /Library/Frameworks/Python.framework/Versions/3.12/lib/python3.12/site-packages (from pydantic<3.0.0,>=2.7.4->langchain) (2.23.4)\n",
      "Requirement already satisfied: charset_normalizer<4,>=2 in /Library/Frameworks/Python.framework/Versions/3.12/lib/python3.12/site-packages (from requests>=2.0.0->langsmith<1.0.0,>=0.3.45->langchain-core<2.0.0,>=1.0.0->langchain) (3.3.2)\n",
      "Requirement already satisfied: urllib3<3,>=1.21.1 in /Users/adityasingh/Library/Python/3.12/lib/python/site-packages (from requests>=2.0.0->langsmith<1.0.0,>=0.3.45->langchain-core<2.0.0,>=1.0.0->langchain) (1.26.20)\n",
      "Note: you may need to restart the kernel to use updated packages.\n",
      "Defaulting to user installation because normal site-packages is not writeable\n",
      "Requirement already satisfied: tqdm in /Users/adityasingh/Library/Python/3.12/lib/python/site-packages (4.67.1)\n",
      "Note: you may need to restart the kernel to use updated packages.\n"
     ]
    }
   ],
   "source": [
    "%pip install langchain_community\n",
    "%pip install langchain\n",
    "%pip install tqdm"
   ]
  },
  {
   "cell_type": "code",
   "execution_count": null,
   "id": "23c8de65",
   "metadata": {},
   "outputs": [],
   "source": [
    "import os\n",
    "from langchain_community.document_loaders import PyMuPDFLoader, PyPDFLoader, DirectoryLoader\n",
    "from langchain_text_splitters import RecursiveCharacterTextSplitter #new version langchain.text_splitter becomes langchain_text_splitters\n"
   ]
  },
  {
   "cell_type": "code",
   "execution_count": 9,
   "id": "1b18e54c",
   "metadata": {},
   "outputs": [],
   "source": [
    "from pathlib import Path\n",
    "from langchain_community.document_loaders import PyPDFLoader\n",
    "\n",
    "def process_all_pdfs(pdf_directory):\n",
    "    \"\"\"Process all the PDFs in a directory\"\"\"\n",
    "    all_documents = []\n",
    "    pdf_dir = Path(pdf_directory)\n",
    "\n",
    "    # find all pdfs (recursive)\n",
    "    pdf_files = list(pdf_dir.glob(\"**/*.pdf\"))\n",
    "    print(f\"Found {len(pdf_files)} PDF files to process\")\n",
    "\n",
    "    for pdf_file in pdf_files:\n",
    "        print(f\"\\nProcessing {pdf_file.name}\")\n",
    "        try:\n",
    "            loader = PyPDFLoader(str(pdf_file))\n",
    "            documents = loader.load()\n",
    "\n",
    "            for doc in documents:\n",
    "                doc.metadata['source_file'] = pdf_file.name\n",
    "                doc.metadata['file_type'] = 'pdf'\n",
    "\n",
    "            all_documents.extend(documents)\n",
    "            print(f\"✔️ Loaded {len(documents)} pages from {pdf_file.name}\")\n",
    "\n",
    "        except Exception as e:\n",
    "            print(f\"❌ Failed to process {pdf_file.name}: {str(e)}\")\n",
    "\n",
    "    return all_documents\n"
   ]
  },
  {
   "cell_type": "code",
   "execution_count": 10,
   "id": "fe0cdc49",
   "metadata": {},
   "outputs": [
    {
     "name": "stdout",
     "output_type": "stream",
     "text": [
      "Found 1 PDF files to process\n",
      "\n",
      "Processing pdf1.pdf\n",
      "✔️ Loaded 1 pages from pdf1.pdf\n",
      "[Document(metadata={'producer': 'Skia/PDF m143 Google Docs Renderer', 'creator': 'PyPDF', 'creationdate': '', 'title': '1NH23CD194_Aditya_Kumar', 'source': '../data/pdf/pdf1.pdf', 'total_pages': 1, 'page': 0, 'page_label': '1', 'source_file': 'pdf1.pdf', 'file_type': 'pdf'}, page_content=\"Aditya  Kumar  \\n 📍Bengaluru,IN 📞+917061939341 ✉seemeadit21824@gmail.com  GitHub  Linkedin\\nSummary  Passionate  MERN  stack  developer  with  proﬁciency  in  data  structures  &  algorithms ,  and  basic  machine  learning.  Dedicated  to  building  scalable  web  applications,  optimizing  performance,  and  leveraging  technology  to  create  innovative,  real-world  solutions  that  drive  meaningful  impact.   \\nSkills \\n●  Programming  Languages :  |  Python  |  C  |  C++  |  Java  |  JavaScript  |  SQL  |  PHP  |  ●  Frontend  Technologies :  |  HTML  |  Bootstrap  |  JS  |  TailwindCSS  |  React  |  ●  Backend  Technologies :  |  Flask  |  Node.js  |  Express.js  |  RESTful  API  |  AWS  ●  Database  Technologies :  |  SQL(MySQL)  |  MongoDB  |  ●  Developer  Tools :  |  Postman  |  Tableau  |  Git  &  GitHub  |  n8n  ●  Data  Visualization  Libraries :  |  Matplotlib  |  Seaborn  |  Plotly  Express  |  ●  ML  Frameworks :  |  NumPy  |  Pandas  |  Scikit-learn  |  ●  Operating  Systems :  |  macOS  |  Linux  |  Windows  |  \\nProjects  Movie  Recommendation  Bot  \\n●\\n \\nTech  Stack\\n:\\n \\nImplemented\\n \\nusing\\n \\nPython\\n \\nand\\n \\nScikit-learn\\n \\nfor\\n \\nseamless\\n \\ninteraction.\\n ●  Personalized  Movie  Recommendations :  Uses  K-Nearest  Neighbors  (KNN)  to  suggest  movies  \\nbased\\n \\non\\n \\nuser\\n \\npreferences\\n \\nand\\n \\nsimilarity\\n \\nscores.\\n ●  Content-Based  Filtering :  Recommends  movies  by  analyzing  genres  and  user  viewing  history .  Disaster  Response  &  Management\\n \\n●\\n \\nA  system  designed  for  effective  disaster  response  and  management\\n ●  Developed  a  Disaster  Response  and  Management  System  using  the  MERN  stack  with  NASA  and  \\nOpenWeather\\n \\nAPIs\\n \\nfor\\n \\nreal-time\\n \\ndisaster\\n \\ntracking.\\n ●  Implemented  interactive  maps  and  secure  role-based  access  via  JWT  authentication .   \\nEducation  New  Horizon  College  of  Engineering                                                              \\nBachelor\\n \\nof\\n \\nEngineering\\n \\nin\\n \\nCSE\\n \\n(Data\\n \\nScience)\\n                                                                           \\n CGPA  :  9.28(  Till  4 ᵗʰ   Sem)                                                                                          \\nExpected\\n \\nby\\n \\nAugust\\n \\n2027\\n                                                                                       \\n  \\nAchievements  \\n2nd  Prize  –  Tech  Olympics                                                                               2nd  Prize  Hackathon  'Code  Battle  -2k25'  20th  ISTE  Karnataka  State  Student  Convention  2024-25               24-Hour  National  Hackathon  by  VDRIT                                   New  Horizon  College  of  Engineering,                                                   IEEE  &  IEEE  Mangalore  Subsection,   March  2025                                                                                                                     March  2025   \\nCertiﬁcations  \\n●  The  Complete  Python  Pro  Bootcamp  (Udemy  Link)  –  Python  Programming,  Data  Visualization,  Web  Development,  GUI\")]\n"
     ]
    }
   ],
   "source": [
    "all_pdf_documents = process_all_pdfs('../data/')\n",
    "print(all_pdf_documents)\n"
   ]
  },
  {
   "cell_type": "code",
   "execution_count": null,
   "id": "417219d4",
   "metadata": {},
   "outputs": [],
   "source": []
  }
 ],
 "metadata": {
  "kernelspec": {
   "display_name": "Python 3",
   "language": "python",
   "name": "python3"
  },
  "language_info": {
   "codemirror_mode": {
    "name": "ipython",
    "version": 3
   },
   "file_extension": ".py",
   "mimetype": "text/x-python",
   "name": "python",
   "nbconvert_exporter": "python",
   "pygments_lexer": "ipython3",
   "version": "3.12.0"
  }
 },
 "nbformat": 4,
 "nbformat_minor": 5
}
